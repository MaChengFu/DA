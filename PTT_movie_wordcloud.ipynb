{
 "cells": [
  {
   "cell_type": "markdown",
   "metadata": {},
   "source": [
    "製作文字雲會用到jieba來斷字斷詞，所以必須要有一個字典檔案，jieba會依在檔案中的字詞作處理，後續產生文字雲時也需要一個stopwords檔案，在該檔案中的字詞就不會出現在文字雲中，因為文字雲會依照詞頻來顯示，如果沒有stopwords，文字雲就會顯示許多無意義的字詞，如:的、你們、我們等等，字典及stopwords都是可以自行修改的。"
   ]
  },
  {
   "cell_type": "code",
   "execution_count": null,
   "metadata": {},
   "outputs": [],
   "source": [
    "%matplotlib inline\n",
    "from wordcloud import WordCloud, STOPWORDS \n",
    "import matplotlib.pyplot as plt\n",
    "import os\n",
    "import jieba"
   ]
  },
  {
   "cell_type": "code",
   "execution_count": null,
   "metadata": {
    "scrolled": false
   },
   "outputs": [],
   "source": [
    "stopwords = []\n",
    "with open(\"./PTT_movie_stopwords.txt\", \"r\", encoding=\"utf-8\") as f:   # stopwords檔案\n",
    "    all_lines = f.readlines()\n",
    "    for line in all_lines:\n",
    "        stopwords.append(line.replace(\"\\n\",\"\"))\n",
    "    \n",
    "        \n",
    "for month in range(1,13):\n",
    "    \n",
    "    path = \"./ptt_movies/2020-{}/\".format(str(month).zfill(2))\n",
    "    article_list = os.listdir(path)\n",
    "    \n",
    "    \n",
    "    text = \"\"\n",
    "    jieba.load_userdict(\"./PTT_movie_dict.txt\")\n",
    "    for article in article_list:\n",
    "        with open(path + article, \"r\", encoding=\"utf-8\") as f:\n",
    "            content = f.readlines()\n",
    "            text += \"\".join(content[9:])\n",
    "    jieba_text = jieba.cut_for_search(text)\n",
    "    text_for_cloud = \" \".join(jieba_text)\n",
    "    text_list = text_for_cloud.split(\" \")\n",
    "    \n",
    "    for w in text_list:                   #把只有單個字或標點符號加入stopwords中\n",
    "        if len(w) < 2:\n",
    "            stopwords.append(w)\n",
    "    \n",
    "    font = r'C:\\Users\\MardyMardy\\Anaconda3\\Lib\\site-packages\\matplotlib\\mpl-data\\fonts\\ttf\\TaipeiSansTCBeta-Bold.ttf'\n",
    "    # 如中文無法顯示需在路徑中加入中文字檔\n",
    "    \n",
    "    wordcloud = WordCloud(width = 800, height = 800, \n",
    "                    background_color ='black', \n",
    "                    stopwords = stopwords,\n",
    "                    font_path = font,\n",
    "                    min_font_size = 10).generate(text_for_cloud) \n",
    "\n",
    "    # plot the WordCloud image                        \n",
    "    plt.figure(figsize = (8, 8), facecolor = None) \n",
    "    plt.imshow(wordcloud) \n",
    "    plt.axis(\"off\") \n",
    "    plt.tight_layout(pad = 0) \n",
    "    \n",
    "    print(str(month) + \"月\")\n",
    "    plt.savefig(\"./{}月\".format(str(month)))\n",
    "    plt.show()\n",
    "    "
   ]
  },
  {
   "cell_type": "code",
   "execution_count": null,
   "metadata": {},
   "outputs": [],
   "source": []
  }
 ],
 "metadata": {
  "kernelspec": {
   "display_name": "Python 3",
   "language": "python",
   "name": "python3"
  },
  "language_info": {
   "codemirror_mode": {
    "name": "ipython",
    "version": 3
   },
   "file_extension": ".py",
   "mimetype": "text/x-python",
   "name": "python",
   "nbconvert_exporter": "python",
   "pygments_lexer": "ipython3",
   "version": "3.7.6"
  }
 },
 "nbformat": 4,
 "nbformat_minor": 4
}
